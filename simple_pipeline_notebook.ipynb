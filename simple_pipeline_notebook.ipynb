{
 "cells": [
  {
   "cell_type": "code",
   "execution_count": 7,
   "id": "d4eb1a2b-f62b-4340-9126-f10258fd69e7",
   "metadata": {},
   "outputs": [
    {
     "name": "stderr",
     "output_type": "stream",
     "text": [
      "Truncation was not explicitly activated but `max_length` is provided a specific value, please use `truncation=True` to explicitly truncate examples to max length. Defaulting to 'longest_first' truncation strategy. If you encode pairs of sequences (GLUE-style) with the tokenizer you can select this strategy more precisely by providing a specific strategy to `truncation`.\n",
      "Setting `pad_token_id` to `eos_token_id`:50256 for open-end generation.\n"
     ]
    },
    {
     "name": "stdout",
     "output_type": "stream",
     "text": [
      "In a distant future, artificial intelligence could \"walk in and out of all sorts of worlds with human power\" and create \"an artificial intelligence of our own. In future, the problem will always be, \"How do we find one, and which\n"
     ]
    }
   ],
   "source": [
    "from transformers import pipeline\n",
    "\n",
    "# تحميل نموذج توليد النصوص\n",
    "generator = pipeline('text-generation', model='gpt2')\n",
    "\n",
    "# إدخال نص كبداية\n",
    "input_text = \"In a distant future, artificial intelligence\"\n",
    "\n",
    "# توليد نص بناءً على المدخل\n",
    "generated_text = generator(input_text, max_length=50, num_return_sequences=1)\n",
    "\n",
    "# عرض النص المُولّد\n",
    "print(generated_text[0]['generated_text'])\n",
    "\n"
   ]
  },
  {
   "cell_type": "code",
   "execution_count": null,
   "id": "0318541c-aeef-42d2-855c-69e6e0a5f964",
   "metadata": {},
   "outputs": [],
   "source": []
  },
  {
   "cell_type": "code",
   "execution_count": null,
   "id": "f9228d71-1420-42b2-9196-d627cb833243",
   "metadata": {},
   "outputs": [],
   "source": []
  }
 ],
 "metadata": {
  "kernelspec": {
   "display_name": "Python 3 (ipykernel)",
   "language": "python",
   "name": "python3"
  },
  "language_info": {
   "codemirror_mode": {
    "name": "ipython",
    "version": 3
   },
   "file_extension": ".py",
   "mimetype": "text/x-python",
   "name": "python",
   "nbconvert_exporter": "python",
   "pygments_lexer": "ipython3",
   "version": "3.12.6"
  }
 },
 "nbformat": 4,
 "nbformat_minor": 5
}
